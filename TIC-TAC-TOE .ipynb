{
 "cells": [
  {
   "cell_type": "code",
   "execution_count": 2,
   "metadata": {},
   "outputs": [
    {
     "data": {
      "text/html": [
       "<div>\n",
       "<style scoped>\n",
       "    .dataframe tbody tr th:only-of-type {\n",
       "        vertical-align: middle;\n",
       "    }\n",
       "\n",
       "    .dataframe tbody tr th {\n",
       "        vertical-align: top;\n",
       "    }\n",
       "\n",
       "    .dataframe thead th {\n",
       "        text-align: right;\n",
       "    }\n",
       "</style>\n",
       "<table border=\"1\" class=\"dataframe\">\n",
       "  <thead>\n",
       "    <tr style=\"text-align: right;\">\n",
       "      <th></th>\n",
       "      <th>top-left-square</th>\n",
       "      <th>top-middle-square</th>\n",
       "      <th>top-right-square</th>\n",
       "      <th>middle-left-square</th>\n",
       "      <th>middle-middle-square</th>\n",
       "      <th>middle-right-square</th>\n",
       "      <th>bottom-left-square</th>\n",
       "      <th>bottom-middle-square</th>\n",
       "      <th>bottom-right-square</th>\n",
       "      <th>Class</th>\n",
       "    </tr>\n",
       "  </thead>\n",
       "  <tbody>\n",
       "    <tr>\n",
       "      <th>0</th>\n",
       "      <td>x</td>\n",
       "      <td>x</td>\n",
       "      <td>x</td>\n",
       "      <td>x</td>\n",
       "      <td>o</td>\n",
       "      <td>o</td>\n",
       "      <td>x</td>\n",
       "      <td>o</td>\n",
       "      <td>o</td>\n",
       "      <td>positive</td>\n",
       "    </tr>\n",
       "    <tr>\n",
       "      <th>1</th>\n",
       "      <td>x</td>\n",
       "      <td>x</td>\n",
       "      <td>x</td>\n",
       "      <td>x</td>\n",
       "      <td>o</td>\n",
       "      <td>o</td>\n",
       "      <td>o</td>\n",
       "      <td>x</td>\n",
       "      <td>o</td>\n",
       "      <td>positive</td>\n",
       "    </tr>\n",
       "    <tr>\n",
       "      <th>2</th>\n",
       "      <td>x</td>\n",
       "      <td>x</td>\n",
       "      <td>x</td>\n",
       "      <td>x</td>\n",
       "      <td>o</td>\n",
       "      <td>o</td>\n",
       "      <td>o</td>\n",
       "      <td>o</td>\n",
       "      <td>x</td>\n",
       "      <td>positive</td>\n",
       "    </tr>\n",
       "    <tr>\n",
       "      <th>3</th>\n",
       "      <td>x</td>\n",
       "      <td>x</td>\n",
       "      <td>x</td>\n",
       "      <td>x</td>\n",
       "      <td>o</td>\n",
       "      <td>o</td>\n",
       "      <td>o</td>\n",
       "      <td>b</td>\n",
       "      <td>b</td>\n",
       "      <td>positive</td>\n",
       "    </tr>\n",
       "    <tr>\n",
       "      <th>4</th>\n",
       "      <td>x</td>\n",
       "      <td>x</td>\n",
       "      <td>x</td>\n",
       "      <td>x</td>\n",
       "      <td>o</td>\n",
       "      <td>o</td>\n",
       "      <td>b</td>\n",
       "      <td>o</td>\n",
       "      <td>b</td>\n",
       "      <td>positive</td>\n",
       "    </tr>\n",
       "  </tbody>\n",
       "</table>\n",
       "</div>"
      ],
      "text/plain": [
       "  top-left-square top-middle-square top-right-square middle-left-square  \\\n",
       "0               x                 x                x                  x   \n",
       "1               x                 x                x                  x   \n",
       "2               x                 x                x                  x   \n",
       "3               x                 x                x                  x   \n",
       "4               x                 x                x                  x   \n",
       "\n",
       "  middle-middle-square middle-right-square bottom-left-square  \\\n",
       "0                    o                   o                  x   \n",
       "1                    o                   o                  o   \n",
       "2                    o                   o                  o   \n",
       "3                    o                   o                  o   \n",
       "4                    o                   o                  b   \n",
       "\n",
       "  bottom-middle-square bottom-right-square     Class  \n",
       "0                    o                   o  positive  \n",
       "1                    x                   o  positive  \n",
       "2                    o                   x  positive  \n",
       "3                    b                   b  positive  \n",
       "4                    o                   b  positive  "
      ]
     },
     "execution_count": 2,
     "metadata": {},
     "output_type": "execute_result"
    }
   ],
   "source": [
    "import pandas as pd\n",
    "dataset=pd.read_csv('dataset_50_tic-tac-toe.csv')\n",
    "dataset.head()"
   ]
  },
  {
   "cell_type": "code",
   "execution_count": 3,
   "metadata": {},
   "outputs": [
    {
     "data": {
      "text/html": [
       "<div>\n",
       "<style scoped>\n",
       "    .dataframe tbody tr th:only-of-type {\n",
       "        vertical-align: middle;\n",
       "    }\n",
       "\n",
       "    .dataframe tbody tr th {\n",
       "        vertical-align: top;\n",
       "    }\n",
       "\n",
       "    .dataframe thead th {\n",
       "        text-align: right;\n",
       "    }\n",
       "</style>\n",
       "<table border=\"1\" class=\"dataframe\">\n",
       "  <thead>\n",
       "    <tr style=\"text-align: right;\">\n",
       "      <th></th>\n",
       "      <th>top-left-square</th>\n",
       "      <th>top-middle-square</th>\n",
       "      <th>top-right-square</th>\n",
       "      <th>middle-left-square</th>\n",
       "      <th>middle-middle-square</th>\n",
       "      <th>middle-right-square</th>\n",
       "      <th>bottom-left-square</th>\n",
       "      <th>bottom-middle-square</th>\n",
       "      <th>bottom-right-square</th>\n",
       "      <th>Class</th>\n",
       "    </tr>\n",
       "  </thead>\n",
       "  <tbody>\n",
       "    <tr>\n",
       "      <th>count</th>\n",
       "      <td>958</td>\n",
       "      <td>958</td>\n",
       "      <td>958</td>\n",
       "      <td>958</td>\n",
       "      <td>958</td>\n",
       "      <td>958</td>\n",
       "      <td>958</td>\n",
       "      <td>958</td>\n",
       "      <td>958</td>\n",
       "      <td>958</td>\n",
       "    </tr>\n",
       "    <tr>\n",
       "      <th>unique</th>\n",
       "      <td>3</td>\n",
       "      <td>3</td>\n",
       "      <td>3</td>\n",
       "      <td>3</td>\n",
       "      <td>3</td>\n",
       "      <td>3</td>\n",
       "      <td>3</td>\n",
       "      <td>3</td>\n",
       "      <td>3</td>\n",
       "      <td>2</td>\n",
       "    </tr>\n",
       "    <tr>\n",
       "      <th>top</th>\n",
       "      <td>x</td>\n",
       "      <td>x</td>\n",
       "      <td>x</td>\n",
       "      <td>x</td>\n",
       "      <td>x</td>\n",
       "      <td>x</td>\n",
       "      <td>x</td>\n",
       "      <td>x</td>\n",
       "      <td>x</td>\n",
       "      <td>positive</td>\n",
       "    </tr>\n",
       "    <tr>\n",
       "      <th>freq</th>\n",
       "      <td>418</td>\n",
       "      <td>378</td>\n",
       "      <td>418</td>\n",
       "      <td>378</td>\n",
       "      <td>458</td>\n",
       "      <td>378</td>\n",
       "      <td>418</td>\n",
       "      <td>378</td>\n",
       "      <td>418</td>\n",
       "      <td>626</td>\n",
       "    </tr>\n",
       "  </tbody>\n",
       "</table>\n",
       "</div>"
      ],
      "text/plain": [
       "       top-left-square top-middle-square top-right-square middle-left-square  \\\n",
       "count              958               958              958                958   \n",
       "unique               3                 3                3                  3   \n",
       "top                  x                 x                x                  x   \n",
       "freq               418               378              418                378   \n",
       "\n",
       "       middle-middle-square middle-right-square bottom-left-square  \\\n",
       "count                   958                 958                958   \n",
       "unique                    3                   3                  3   \n",
       "top                       x                   x                  x   \n",
       "freq                    458                 378                418   \n",
       "\n",
       "       bottom-middle-square bottom-right-square     Class  \n",
       "count                   958                 958       958  \n",
       "unique                    3                   3         2  \n",
       "top                       x                   x  positive  \n",
       "freq                    378                 418       626  "
      ]
     },
     "execution_count": 3,
     "metadata": {},
     "output_type": "execute_result"
    }
   ],
   "source": [
    "dataset.describe()"
   ]
  },
  {
   "cell_type": "code",
   "execution_count": 5,
   "metadata": {},
   "outputs": [
    {
     "data": {
      "text/plain": [
       "top-left-square         0\n",
       "top-middle-square       0\n",
       "top-right-square        0\n",
       "middle-left-square      0\n",
       "middle-middle-square    0\n",
       "middle-right-square     0\n",
       "bottom-left-square      0\n",
       "bottom-middle-square    0\n",
       "bottom-right-square     0\n",
       "Class                   0\n",
       "dtype: int64"
      ]
     },
     "execution_count": 5,
     "metadata": {},
     "output_type": "execute_result"
    }
   ],
   "source": [
    "dataset.isnull().sum()"
   ]
  },
  {
   "cell_type": "code",
   "execution_count": 6,
   "metadata": {},
   "outputs": [
    {
     "name": "stdout",
     "output_type": "stream",
     "text": [
      "<class 'pandas.core.frame.DataFrame'>\n",
      "RangeIndex: 958 entries, 0 to 957\n",
      "Data columns (total 10 columns):\n",
      " #   Column                Non-Null Count  Dtype \n",
      "---  ------                --------------  ----- \n",
      " 0   top-left-square       958 non-null    object\n",
      " 1   top-middle-square     958 non-null    object\n",
      " 2   top-right-square      958 non-null    object\n",
      " 3   middle-left-square    958 non-null    object\n",
      " 4   middle-middle-square  958 non-null    object\n",
      " 5   middle-right-square   958 non-null    object\n",
      " 6   bottom-left-square    958 non-null    object\n",
      " 7   bottom-middle-square  958 non-null    object\n",
      " 8   bottom-right-square   958 non-null    object\n",
      " 9   Class                 958 non-null    object\n",
      "dtypes: object(10)\n",
      "memory usage: 75.0+ KB\n"
     ]
    }
   ],
   "source": [
    "dataset.info()"
   ]
  },
  {
   "cell_type": "code",
   "execution_count": 7,
   "metadata": {},
   "outputs": [
    {
     "name": "stderr",
     "output_type": "stream",
     "text": [
      "C:\\Users\\souvik\\anaconda3\\envs\\tensorflow\\lib\\site-packages\\seaborn\\_decorators.py:43: FutureWarning: Pass the following variable as a keyword arg: x. From version 0.12, the only valid positional argument will be `data`, and passing other arguments without an explicit keyword will result in an error or misinterpretation.\n",
      "  FutureWarning\n"
     ]
    },
    {
     "data": {
      "text/plain": [
       "<AxesSubplot:xlabel='top-left-square', ylabel='count'>"
      ]
     },
     "execution_count": 7,
     "metadata": {},
     "output_type": "execute_result"
    },
    {
     "data": {
      "image/png": "[encoded data removed]",
      "text/plain": [
       "<Figure size 432x288 with 1 Axes>"
      ]
     },
     "metadata": {
      "needs_background": "light"
     },
     "output_type": "display_data"
    }
   ],
   "source": [
    "import seaborn as sns\n",
    "sns.countplot(dataset['top-left-square'])"
   ]
  },
  {
   "cell_type": "code",
   "execution_count": 8,
   "metadata": {},
   "outputs": [
    {
     "name": "stderr",
     "output_type": "stream",
     "text": [
      "C:\\Users\\souvik\\anaconda3\\envs\\tensorflow\\lib\\site-packages\\seaborn\\_decorators.py:43: FutureWarning: Pass the following variable as a keyword arg: x. From version 0.12, the only valid positional argument will be `data`, and passing other arguments without an explicit keyword will result in an error or misinterpretation.\n",
      "  FutureWarning\n"
     ]
    },
    {
     "data": {
      "text/plain": [
       "<AxesSubplot:xlabel='top-right-square', ylabel='count'>"
      ]
     },
     "execution_count": 8,
     "metadata": {},
     "output_type": "execute_result"
    },
    {
     "data": {
      "image/png": "[encoded data removed]",
      "text/plain": [
       "<Figure size 432x288 with 1 Axes>"
      ]
     },
     "metadata": {
      "needs_background": "light"
     },
     "output_type": "display_data"
    }
   ],
   "source": [
    "sns.countplot(dataset['top-right-square'])"
   ]
  },
  {
   "cell_type": "code",
   "execution_count": 9,
   "metadata": {},
   "outputs": [
    {
     "name": "stderr",
     "output_type": "stream",
     "text": [
      "C:\\Users\\souvik\\anaconda3\\envs\\tensorflow\\lib\\site-packages\\seaborn\\_decorators.py:43: FutureWarning: Pass the following variable as a keyword arg: x. From version 0.12, the only valid positional argument will be `data`, and passing other arguments without an explicit keyword will result in an error or misinterpretation.\n",
      "  FutureWarning\n"
     ]
    },
    {
     "data": {
      "text/plain": [
       "<AxesSubplot:xlabel='top-middle-square', ylabel='count'>"
      ]
     },
     "execution_count": 9,
     "metadata": {},
     "output_type": "execute_result"
    },
    {
     "data": {
      "image/png": "[encoded data removed]",
      "text/plain": [
       "<Figure size 432x288 with 1 Axes>"
      ]
     },
     "metadata": {
      "needs_background": "light"
     },
     "output_type": "display_data"
    }
   ],
   "source": [
    "sns.countplot(dataset['top-middle-square'])"
   ]
  },
  {
   "cell_type": "code",
   "execution_count": 10,
   "metadata": {},
   "outputs": [
    {
     "name": "stderr",
     "output_type": "stream",
     "text": [
      "C:\\Users\\souvik\\anaconda3\\envs\\tensorflow\\lib\\site-packages\\seaborn\\_decorators.py:43: FutureWarning: Pass the following variable as a keyword arg: x. From version 0.12, the only valid positional argument will be `data`, and passing other arguments without an explicit keyword will result in an error or misinterpretation.\n",
      "  FutureWarning\n"
     ]
    },
    {
     "data": {
      "text/plain": [
       "<AxesSubplot:xlabel='middle-left-square', ylabel='count'>"
      ]
     },
     "execution_count": 10,
     "metadata": {},
     "output_type": "execute_result"
    },
    {
     "data": {
      "image/png": "[encoded data removed]",
      "text/plain": [
       "<Figure size 432x288 with 1 Axes>"
      ]
     },
     "metadata": {
      "needs_background": "light"
     },
     "output_type": "display_data"
    }
   ],
   "source": [
    "sns.countplot(dataset['middle-left-square'])"
   ]
  },
  {
   "cell_type": "code",
   "execution_count": 11,
   "metadata": {},
   "outputs": [
    {
     "name": "stderr",
     "output_type": "stream",
     "text": [
      "C:\\Users\\souvik\\anaconda3\\envs\\tensorflow\\lib\\site-packages\\seaborn\\_decorators.py:43: FutureWarning: Pass the following variable as a keyword arg: x. From version 0.12, the only valid positional argument will be `data`, and passing other arguments without an explicit keyword will result in an error or misinterpretation.\n",
      "  FutureWarning\n"
     ]
    },
    {
     "data": {
      "text/plain": [
       "<AxesSubplot:xlabel='middle-middle-square', ylabel='count'>"
      ]
     },
     "execution_count": 11,
     "metadata": {},
     "output_type": "execute_result"
    },
    {
     "data": {
      "image/png": "[encoded data removed]",
      "text/plain": [
       "<Figure size 432x288 with 1 Axes>"
      ]
     },
     "metadata": {
      "needs_background": "light"
     },
     "output_type": "display_data"
    }
   ],
   "source": [
    "sns.countplot(dataset['middle-middle-square'])"
   ]
  },
  {
   "cell_type": "code",
   "execution_count": 12,
   "metadata": {},
   "outputs": [
    {
     "name": "stderr",
     "output_type": "stream",
     "text": [
      "C:\\Users\\souvik\\anaconda3\\envs\\tensorflow\\lib\\site-packages\\seaborn\\_decorators.py:43: FutureWarning: Pass the following variable as a keyword arg: x. From version 0.12, the only valid positional argument will be `data`, and passing other arguments without an explicit keyword will result in an error or misinterpretation.\n",
      "  FutureWarning\n"
     ]
    },
    {
     "data": {
      "text/plain": [
       "<AxesSubplot:xlabel='middle-right-square', ylabel='count'>"
      ]
     },
     "execution_count": 12,
     "metadata": {},
     "output_type": "execute_result"
    },
    {
     "data": {
      "image/png": "[encoded data removed]",
      "text/plain": [
       "<Figure size 432x288 with 1 Axes>"
      ]
     },
     "metadata": {
      "needs_background": "light"
     },
     "output_type": "display_data"
    }
   ],
   "source": [
    "sns.countplot(dataset['middle-right-square'])"
   ]
  },
  {
   "cell_type": "code",
   "execution_count": 13,
   "metadata": {},
   "outputs": [
    {
     "name": "stderr",
     "output_type": "stream",
     "text": [
      "C:\\Users\\souvik\\anaconda3\\envs\\tensorflow\\lib\\site-packages\\seaborn\\_decorators.py:43: FutureWarning: Pass the following variable as a keyword arg: x. From version 0.12, the only valid positional argument will be `data`, and passing other arguments without an explicit keyword will result in an error or misinterpretation.\n",
      "  FutureWarning\n"
     ]
    },
    {
     "data": {
      "text/plain": [
       "<AxesSubplot:xlabel='bottom-left-square', ylabel='count'>"
      ]
     },
     "execution_count": 13,
     "metadata": {},
     "output_type": "execute_result"
    },
    {
     "data": {
      "image/png": "[encoded data removed]",
      "text/plain": [
       "<Figure size 432x288 with 1 Axes>"
      ]
     },
     "metadata": {
      "needs_background": "light"
     },
     "output_type": "display_data"
    }
   ],
   "source": [
    "sns.countplot(dataset['bottom-left-square'])"
   ]
  },
  {
   "cell_type": "code",
   "execution_count": 15,
   "metadata": {},
   "outputs": [
    {
     "name": "stderr",
     "output_type": "stream",
     "text": [
      "C:\\Users\\souvik\\anaconda3\\envs\\tensorflow\\lib\\site-packages\\seaborn\\_decorators.py:43: FutureWarning: Pass the following variable as a keyword arg: x. From version 0.12, the only valid positional argument will be `data`, and passing other arguments without an explicit keyword will result in an error or misinterpretation.\n",
      "  FutureWarning\n"
     ]
    },
    {
     "data": {
      "text/plain": [
       "<AxesSubplot:xlabel='bottom-middle-square', ylabel='count'>"
      ]
     },
     "execution_count": 15,
     "metadata": {},
     "output_type": "execute_result"
    },
    {
     "data": {
      "image/png": "[encoded data removed]",
      "text/plain": [
       "<Figure size 432x288 with 1 Axes>"
      ]
     },
     "metadata": {
      "needs_background": "light"
     },
     "output_type": "display_data"
    }
   ],
   "source": [
    "sns.countplot(dataset['bottom-middle-square'])"
   ]
  },
  {
   "cell_type": "code",
   "execution_count": 16,
   "metadata": {},
   "outputs": [
    {
     "name": "stderr",
     "output_type": "stream",
     "text": [
      "C:\\Users\\souvik\\anaconda3\\envs\\tensorflow\\lib\\site-packages\\seaborn\\_decorators.py:43: FutureWarning: Pass the following variable as a keyword arg: x. From version 0.12, the only valid positional argument will be `data`, and passing other arguments without an explicit keyword will result in an error or misinterpretation.\n",
      "  FutureWarning\n"
     ]
    },
    {
     "data": {
      "text/plain": [
       "<AxesSubplot:xlabel='bottom-right-square', ylabel='count'>"
      ]
     },
     "execution_count": 16,
     "metadata": {},
     "output_type": "execute_result"
    },
    {
     "data": {
      "image/png": "[encoded data removed]",
      "text/plain": [
       "<Figure size 432x288 with 1 Axes>"
      ]
     },
     "metadata": {
      "needs_background": "light"
     },
     "output_type": "display_data"
    }
   ],
   "source": [
    "sns.countplot(dataset['bottom-right-square'])"
   ]
  },
  {
   "cell_type": "code",
   "execution_count": 22,
   "metadata": {},
   "outputs": [
    {
     "name": "stderr",
     "output_type": "stream",
     "text": [
      "C:\\Users\\souvik\\anaconda3\\envs\\tensorflow\\lib\\site-packages\\seaborn\\_decorators.py:43: FutureWarning: Pass the following variable as a keyword arg: x. From version 0.12, the only valid positional argument will be `data`, and passing other arguments without an explicit keyword will result in an error or misinterpretation.\n",
      "  FutureWarning\n"
     ]
    },
    {
     "data": {
      "text/plain": [
       "<AxesSubplot:xlabel='Class', ylabel='count'>"
      ]
     },
     "execution_count": 22,
     "metadata": {},
     "output_type": "execute_result"
    },
    {
     "data": {
      "image/png": "[encoded data removed]",
      "text/plain": [
       "<Figure size 432x288 with 1 Axes>"
      ]
     },
     "metadata": {
      "needs_background": "light"
     },
     "output_type": "display_data"
    }
   ],
   "source": [
    "sns.countplot(dataset['Class'])"
   ]
  },
  {
   "cell_type": "code",
   "execution_count": 28,
   "metadata": {},
   "outputs": [],
   "source": [
    "from sklearn.preprocessing import LabelEncoder\n",
    "lb=LabelEncoder()\n",
    "dataset.iloc[:,0]=lb.fit_transform(dataset.iloc[:,0].values)\n",
    "dataset.iloc[:,1]=lb.fit_transform(dataset.iloc[:,1].values)\n",
    "dataset.iloc[:,2]=lb.fit_transform(dataset.iloc[:,2].values)\n",
    "dataset.iloc[:,3]=lb.fit_transform(dataset.iloc[:,3].values)\n",
    "dataset.iloc[:,4]=lb.fit_transform(dataset.iloc[:,4].values)\n",
    "dataset.iloc[:,5]=lb.fit_transform(dataset.iloc[:,5].values)\n",
    "dataset.iloc[:,6]=lb.fit_transform(dataset.iloc[:,6].values)\n",
    "dataset.iloc[:,7]=lb.fit_transform(dataset.iloc[:,7].values)\n",
    "dataset.iloc[:,8]=lb.fit_transform(dataset.iloc[:,8].values)\n",
    "dataset.iloc[:,9]=lb.fit_transform(dataset.iloc[:,9].values)"
   ]
  },
  {
   "cell_type": "code",
   "execution_count": 29,
   "metadata": {},
   "outputs": [
    {
     "data": {
      "text/html": [
       "<div>\n",
       "<style scoped>\n",
       "    .dataframe tbody tr th:only-of-type {\n",
       "        vertical-align: middle;\n",
       "    }\n",
       "\n",
       "    .dataframe tbody tr th {\n",
       "        vertical-align: top;\n",
       "    }\n",
       "\n",
       "    .dataframe thead th {\n",
       "        text-align: right;\n",
       "    }\n",
       "</style>\n",
       "<table border=\"1\" class=\"dataframe\">\n",
       "  <thead>\n",
       "    <tr style=\"text-align: right;\">\n",
       "      <th></th>\n",
       "      <th>top-left-square</th>\n",
       "      <th>top-middle-square</th>\n",
       "      <th>top-right-square</th>\n",
       "      <th>middle-left-square</th>\n",
       "      <th>middle-middle-square</th>\n",
       "      <th>middle-right-square</th>\n",
       "      <th>bottom-left-square</th>\n",
       "      <th>bottom-middle-square</th>\n",
       "      <th>bottom-right-square</th>\n",
       "      <th>Class</th>\n",
       "    </tr>\n",
       "  </thead>\n",
       "  <tbody>\n",
       "    <tr>\n",
       "      <th>0</th>\n",
       "      <td>2</td>\n",
       "      <td>2</td>\n",
       "      <td>2</td>\n",
       "      <td>2</td>\n",
       "      <td>1</td>\n",
       "      <td>1</td>\n",
       "      <td>2</td>\n",
       "      <td>1</td>\n",
       "      <td>1</td>\n",
       "      <td>1</td>\n",
       "    </tr>\n",
       "    <tr>\n",
       "      <th>1</th>\n",
       "      <td>2</td>\n",
       "      <td>2</td>\n",
       "      <td>2</td>\n",
       "      <td>2</td>\n",
       "      <td>1</td>\n",
       "      <td>1</td>\n",
       "      <td>1</td>\n",
       "      <td>2</td>\n",
       "      <td>1</td>\n",
       "      <td>1</td>\n",
       "    </tr>\n",
       "    <tr>\n",
       "      <th>2</th>\n",
       "      <td>2</td>\n",
       "      <td>2</td>\n",
       "      <td>2</td>\n",
       "      <td>2</td>\n",
       "      <td>1</td>\n",
       "      <td>1</td>\n",
       "      <td>1</td>\n",
       "      <td>1</td>\n",
       "      <td>2</td>\n",
       "      <td>1</td>\n",
       "    </tr>\n",
       "    <tr>\n",
       "      <th>3</th>\n",
       "      <td>2</td>\n",
       "      <td>2</td>\n",
       "      <td>2</td>\n",
       "      <td>2</td>\n",
       "      <td>1</td>\n",
       "      <td>1</td>\n",
       "      <td>1</td>\n",
       "      <td>0</td>\n",
       "      <td>0</td>\n",
       "      <td>1</td>\n",
       "    </tr>\n",
       "    <tr>\n",
       "      <th>4</th>\n",
       "      <td>2</td>\n",
       "      <td>2</td>\n",
       "      <td>2</td>\n",
       "      <td>2</td>\n",
       "      <td>1</td>\n",
       "      <td>1</td>\n",
       "      <td>0</td>\n",
       "      <td>1</td>\n",
       "      <td>0</td>\n",
       "      <td>1</td>\n",
       "    </tr>\n",
       "  </tbody>\n",
       "</table>\n",
       "</div>"
      ],
      "text/plain": [
       "   top-left-square  top-middle-square  top-right-square  middle-left-square  \\\n",
       "0                2                  2                 2                   2   \n",
       "1                2                  2                 2                   2   \n",
       "2                2                  2                 2                   2   \n",
       "3                2                  2                 2                   2   \n",
       "4                2                  2                 2                   2   \n",
       "\n",
       "   middle-middle-square  middle-right-square  bottom-left-square  \\\n",
       "0                     1                    1                   2   \n",
       "1                     1                    1                   1   \n",
       "2                     1                    1                   1   \n",
       "3                     1                    1                   1   \n",
       "4                     1                    1                   0   \n",
       "\n",
       "   bottom-middle-square  bottom-right-square  Class  \n",
       "0                     1                    1      1  \n",
       "1                     2                    1      1  \n",
       "2                     1                    2      1  \n",
       "3                     0                    0      1  \n",
       "4                     1                    0      1  "
      ]
     },
     "execution_count": 29,
     "metadata": {},
     "output_type": "execute_result"
    }
   ],
   "source": [
    "dataset.head()"
   ]
  },
  {
   "cell_type": "code",
   "execution_count": 31,
   "metadata": {},
   "outputs": [
    {
     "data": {
      "text/plain": [
       "<seaborn.axisgrid.PairGrid at 0x17406d24108>"
      ]
     },
     "execution_count": 31,
     "metadata": {},
     "output_type": "execute_result"
    },
    {
     "data": {
      "image/png": "[encoded data removed]",
      "text/plain": [
       "<Figure size 1800x1800 with 110 Axes>"
      ]
     },
     "metadata": {
      "needs_background": "light"
     },
     "output_type": "display_data"
    }
   ],
   "source": [
    "sns.pairplot(dataset)"
   ]
  },
  {
   "cell_type": "code",
   "execution_count": 32,
   "metadata": {},
   "outputs": [
    {
     "data": {
      "text/html": [
       "<div>\n",
       "<style scoped>\n",
       "    .dataframe tbody tr th:only-of-type {\n",
       "        vertical-align: middle;\n",
       "    }\n",
       "\n",
       "    .dataframe tbody tr th {\n",
       "        vertical-align: top;\n",
       "    }\n",
       "\n",
       "    .dataframe thead th {\n",
       "        text-align: right;\n",
       "    }\n",
       "</style>\n",
       "<table border=\"1\" class=\"dataframe\">\n",
       "  <thead>\n",
       "    <tr style=\"text-align: right;\">\n",
       "      <th></th>\n",
       "      <th>top-left-square</th>\n",
       "      <th>top-middle-square</th>\n",
       "      <th>top-right-square</th>\n",
       "      <th>middle-left-square</th>\n",
       "      <th>middle-middle-square</th>\n",
       "      <th>middle-right-square</th>\n",
       "      <th>bottom-left-square</th>\n",
       "      <th>bottom-middle-square</th>\n",
       "      <th>bottom-right-square</th>\n",
       "    </tr>\n",
       "  </thead>\n",
       "  <tbody>\n",
       "    <tr>\n",
       "      <th>top-left-square</th>\n",
       "      <td>1.000000</td>\n",
       "      <td>0.002598</td>\n",
       "      <td>-0.061424</td>\n",
       "      <td>0.002598</td>\n",
       "      <td>-0.095030</td>\n",
       "      <td>-0.154229</td>\n",
       "      <td>-0.061424</td>\n",
       "      <td>-0.154229</td>\n",
       "      <td>-0.026680</td>\n",
       "    </tr>\n",
       "    <tr>\n",
       "      <th>top-middle-square</th>\n",
       "      <td>0.002598</td>\n",
       "      <td>1.000000</td>\n",
       "      <td>0.002598</td>\n",
       "      <td>-0.101657</td>\n",
       "      <td>-0.049103</td>\n",
       "      <td>-0.101657</td>\n",
       "      <td>-0.154229</td>\n",
       "      <td>0.050578</td>\n",
       "      <td>-0.154229</td>\n",
       "    </tr>\n",
       "    <tr>\n",
       "      <th>top-right-square</th>\n",
       "      <td>-0.061424</td>\n",
       "      <td>0.002598</td>\n",
       "      <td>1.000000</td>\n",
       "      <td>-0.154229</td>\n",
       "      <td>-0.095030</td>\n",
       "      <td>0.002598</td>\n",
       "      <td>-0.026680</td>\n",
       "      <td>-0.154229</td>\n",
       "      <td>-0.061424</td>\n",
       "    </tr>\n",
       "    <tr>\n",
       "      <th>middle-left-square</th>\n",
       "      <td>0.002598</td>\n",
       "      <td>-0.101657</td>\n",
       "      <td>-0.154229</td>\n",
       "      <td>1.000000</td>\n",
       "      <td>-0.049103</td>\n",
       "      <td>0.050578</td>\n",
       "      <td>0.002598</td>\n",
       "      <td>-0.101657</td>\n",
       "      <td>-0.154229</td>\n",
       "    </tr>\n",
       "    <tr>\n",
       "      <th>middle-middle-square</th>\n",
       "      <td>-0.095030</td>\n",
       "      <td>-0.049103</td>\n",
       "      <td>-0.095030</td>\n",
       "      <td>-0.049103</td>\n",
       "      <td>1.000000</td>\n",
       "      <td>-0.049103</td>\n",
       "      <td>-0.095030</td>\n",
       "      <td>-0.049103</td>\n",
       "      <td>-0.095030</td>\n",
       "    </tr>\n",
       "    <tr>\n",
       "      <th>middle-right-square</th>\n",
       "      <td>-0.154229</td>\n",
       "      <td>-0.101657</td>\n",
       "      <td>0.002598</td>\n",
       "      <td>0.050578</td>\n",
       "      <td>-0.049103</td>\n",
       "      <td>1.000000</td>\n",
       "      <td>-0.154229</td>\n",
       "      <td>-0.101657</td>\n",
       "      <td>0.002598</td>\n",
       "    </tr>\n",
       "    <tr>\n",
       "      <th>bottom-left-square</th>\n",
       "      <td>-0.061424</td>\n",
       "      <td>-0.154229</td>\n",
       "      <td>-0.026680</td>\n",
       "      <td>0.002598</td>\n",
       "      <td>-0.095030</td>\n",
       "      <td>-0.154229</td>\n",
       "      <td>1.000000</td>\n",
       "      <td>0.002598</td>\n",
       "      <td>-0.061424</td>\n",
       "    </tr>\n",
       "    <tr>\n",
       "      <th>bottom-middle-square</th>\n",
       "      <td>-0.154229</td>\n",
       "      <td>0.050578</td>\n",
       "      <td>-0.154229</td>\n",
       "      <td>-0.101657</td>\n",
       "      <td>-0.049103</td>\n",
       "      <td>-0.101657</td>\n",
       "      <td>0.002598</td>\n",
       "      <td>1.000000</td>\n",
       "      <td>0.002598</td>\n",
       "    </tr>\n",
       "    <tr>\n",
       "      <th>bottom-right-square</th>\n",
       "      <td>-0.026680</td>\n",
       "      <td>-0.154229</td>\n",
       "      <td>-0.061424</td>\n",
       "      <td>-0.154229</td>\n",
       "      <td>-0.095030</td>\n",
       "      <td>0.002598</td>\n",
       "      <td>-0.061424</td>\n",
       "      <td>0.002598</td>\n",
       "      <td>1.000000</td>\n",
       "    </tr>\n",
       "  </tbody>\n",
       "</table>\n",
       "</div>"
      ],
      "text/plain": [
       "                      top-left-square  top-middle-square  top-right-square  \\\n",
       "top-left-square              1.000000           0.002598         -0.061424   \n",
       "top-middle-square            0.002598           1.000000          0.002598   \n",
       "top-right-square            -0.061424           0.002598          1.000000   \n",
       "middle-left-square           0.002598          -0.101657         -0.154229   \n",
       "middle-middle-square        -0.095030          -0.049103         -0.095030   \n",
       "middle-right-square         -0.154229          -0.101657          0.002598   \n",
       "bottom-left-square          -0.061424          -0.154229         -0.026680   \n",
       "bottom-middle-square        -0.154229           0.050578         -0.154229   \n",
       "bottom-right-square         -0.026680          -0.154229         -0.061424   \n",
       "\n",
       "                      middle-left-square  middle-middle-square  \\\n",
       "top-left-square                 0.002598             -0.095030   \n",
       "top-middle-square              -0.101657             -0.049103   \n",
       "top-right-square               -0.154229             -0.095030   \n",
       "middle-left-square              1.000000             -0.049103   \n",
       "middle-middle-square           -0.049103              1.000000   \n",
       "middle-right-square             0.050578             -0.049103   \n",
       "bottom-left-square              0.002598             -0.095030   \n",
       "bottom-middle-square           -0.101657             -0.049103   \n",
       "bottom-right-square            -0.154229             -0.095030   \n",
       "\n",
       "                      middle-right-square  bottom-left-square  \\\n",
       "top-left-square                 -0.154229           -0.061424   \n",
       "top-middle-square               -0.101657           -0.154229   \n",
       "top-right-square                 0.002598           -0.026680   \n",
       "middle-left-square               0.050578            0.002598   \n",
       "middle-middle-square            -0.049103           -0.095030   \n",
       "middle-right-square              1.000000           -0.154229   \n",
       "bottom-left-square              -0.154229            1.000000   \n",
       "bottom-middle-square            -0.101657            0.002598   \n",
       "bottom-right-square              0.002598           -0.061424   \n",
       "\n",
       "                      bottom-middle-square  bottom-right-square  \n",
       "top-left-square                  -0.154229            -0.026680  \n",
       "top-middle-square                 0.050578            -0.154229  \n",
       "top-right-square                 -0.154229            -0.061424  \n",
       "middle-left-square               -0.101657            -0.154229  \n",
       "middle-middle-square             -0.049103            -0.095030  \n",
       "middle-right-square              -0.101657             0.002598  \n",
       "bottom-left-square                0.002598            -0.061424  \n",
       "bottom-middle-square              1.000000             0.002598  \n",
       "bottom-right-square               0.002598             1.000000  "
      ]
     },
     "execution_count": 32,
     "metadata": {},
     "output_type": "execute_result"
    }
   ],
   "source": [
    "dataset.iloc[:,:9].corr()"
   ]
  },
  {
   "cell_type": "code",
   "execution_count": 33,
   "metadata": {},
   "outputs": [
    {
     "data": {
      "text/plain": [
       "<AxesSubplot:>"
      ]
     },
     "execution_count": 33,
     "metadata": {},
     "output_type": "execute_result"
    },
    {
     "data": {
      "image/png": "[encoded data removed]",
      "text/plain": [
       "<Figure size 720x576 with 2 Axes>"
      ]
     },
     "metadata": {
      "needs_background": "light"
     },
     "output_type": "display_data"
    }
   ],
   "source": [
    "import matplotlib.pyplot as plt\n",
    "plt.figure(figsize=(10,8))\n",
    "sns.heatmap(dataset.iloc[:,:9].corr(),annot=True,fmt='.0%')"
   ]
  },
  {
   "cell_type": "code",
   "execution_count": 34,
   "metadata": {},
   "outputs": [
    {
     "data": {
      "text/html": [
       "<div>\n",
       "<style scoped>\n",
       "    .dataframe tbody tr th:only-of-type {\n",
       "        vertical-align: middle;\n",
       "    }\n",
       "\n",
       "    .dataframe tbody tr th {\n",
       "        vertical-align: top;\n",
       "    }\n",
       "\n",
       "    .dataframe thead th {\n",
       "        text-align: right;\n",
       "    }\n",
       "</style>\n",
       "<table border=\"1\" class=\"dataframe\">\n",
       "  <thead>\n",
       "    <tr style=\"text-align: right;\">\n",
       "      <th></th>\n",
       "      <th>top-left-square</th>\n",
       "      <th>top-middle-square</th>\n",
       "      <th>top-right-square</th>\n",
       "      <th>middle-left-square</th>\n",
       "      <th>middle-middle-square</th>\n",
       "      <th>middle-right-square</th>\n",
       "      <th>bottom-left-square</th>\n",
       "      <th>bottom-middle-square</th>\n",
       "      <th>bottom-right-square</th>\n",
       "    </tr>\n",
       "  </thead>\n",
       "  <tbody>\n",
       "    <tr>\n",
       "      <th>0</th>\n",
       "      <td>2</td>\n",
       "      <td>2</td>\n",
       "      <td>2</td>\n",
       "      <td>2</td>\n",
       "      <td>1</td>\n",
       "      <td>1</td>\n",
       "      <td>2</td>\n",
       "      <td>1</td>\n",
       "      <td>1</td>\n",
       "    </tr>\n",
       "    <tr>\n",
       "      <th>1</th>\n",
       "      <td>2</td>\n",
       "      <td>2</td>\n",
       "      <td>2</td>\n",
       "      <td>2</td>\n",
       "      <td>1</td>\n",
       "      <td>1</td>\n",
       "      <td>1</td>\n",
       "      <td>2</td>\n",
       "      <td>1</td>\n",
       "    </tr>\n",
       "  </tbody>\n",
       "</table>\n",
       "</div>"
      ],
      "text/plain": [
       "   top-left-square  top-middle-square  top-right-square  middle-left-square  \\\n",
       "0                2                  2                 2                   2   \n",
       "1                2                  2                 2                   2   \n",
       "\n",
       "   middle-middle-square  middle-right-square  bottom-left-square  \\\n",
       "0                     1                    1                   2   \n",
       "1                     1                    1                   1   \n",
       "\n",
       "   bottom-middle-square  bottom-right-square  \n",
       "0                     1                    1  \n",
       "1                     2                    1  "
      ]
     },
     "execution_count": 34,
     "metadata": {},
     "output_type": "execute_result"
    }
   ],
   "source": [
    "x=dataset.iloc[:,:9]\n",
    "y=dataset.iloc[:,-1]\n",
    "x.head(2)"
   ]
  },
  {
   "cell_type": "code",
   "execution_count": 35,
   "metadata": {},
   "outputs": [
    {
     "data": {
      "text/plain": [
       "0    1\n",
       "1    1\n",
       "Name: Class, dtype: int32"
      ]
     },
     "execution_count": 35,
     "metadata": {},
     "output_type": "execute_result"
    }
   ],
   "source": [
    "y.head(2)"
   ]
  },
  {
   "cell_type": "code",
   "execution_count": 67,
   "metadata": {},
   "outputs": [
    {
     "name": "stdout",
     "output_type": "stream",
     "text": [
      "[1 0 1 1 1 1 0 1 1 1 1 1 1 1 0 1 1 0 1 1 1 1 1 1 1 1 1 1 1 1 0 1 1 1 1 1 0\n",
      " 1 1 0 1 0 1 1 0 0 1 1 1 1 1 1 0 1 1 0 0 0 1 0 0 0 1 0 0 0 1 1 1 1 1 0 1 0\n",
      " 1 0 1 1 1 1 0 0 1 1 1 0 1 0 1 0 1 0 0 1 1 1 0 1 0 1 0 1 0 1 0 1 0 1 0 0 1\n",
      " 0 0 1 1 1 1 1 1 0 0 1 1 0 1 1 0 1 1 0 0 1 1 1 1 1 1 1 0 0 1 1 1 1 0 0 0 1\n",
      " 1 1 1 1 0 1 1 1 1 1 0 1 0 1 1 1 0 1 0 0 1 1 0 0 1 0 1 0 1 1 1 1 1 1 1 1 0\n",
      " 1 0 1 1 1 1 0 1 0 1 0 0 0 1 1 0 1 1 1 1 1 1 0 1 0 1 0 0 1 1 1 1 1 0 0 1 0\n",
      " 1 1 1 1 1 1 1 0 1 1 0 0 0 1 1 0 0 1 1 1 1 0 1 0 0 1 1 0 1 1 1 0 0 1 1 1 1\n",
      " 1 0 0 1 1 1 1 0 1 1 1 0 1 1 0 0 1 1 1 0 0 1 0 0 0 1 0 1 1]\n"
     ]
    }
   ],
   "source": [
    "from sklearn import metrics\n",
    "from sklearn.model_selection import train_test_split\n",
    "from sklearn.model_selection import cross_val_score\n",
    "from sklearn.tree import DecisionTreeClassifier\n",
    "x_train,x_test,y_train,y_test=train_test_split(x,y,test_size=0.3,random_state=1)\n",
    "dtree=DecisionTreeClassifier(criterion='entropy',max_depth=10)\n",
    "dtree.fit(x_train,y_train)\n",
    "prediction1=dtree.predict(x_test)\n",
    "print(prediction1)\n"
   ]
  },
  {
   "cell_type": "code",
   "execution_count": 68,
   "metadata": {},
   "outputs": [
    {
     "name": "stdout",
     "output_type": "stream",
     "text": [
      "42\n",
      "0.8541666666666666\n",
      "[0.89552239 0.86567164 0.81343284 0.85820896 0.85820896]\n"
     ]
    }
   ],
   "source": [
    "count_missclassified1=(y_test!=prediction1).sum()\n",
    "print(count_missclassified1)\n",
    "accuracy1=metrics.accuracy_score(y_test,prediction1)\n",
    "print(accuracy1)\n",
    "cross_val_accur1=cross_val_score(DecisionTreeClassifier(criterion='entropy',max_depth=10),x_train,y_train)\n",
    "print(cross_val_accur1)"
   ]
  },
  {
   "cell_type": "code",
   "execution_count": 69,
   "metadata": {},
   "outputs": [
    {
     "data": {
      "text/plain": [
       "array([0.84444444, 0.77777778, 0.88888889, 0.88888889, 0.86666667,\n",
       "       0.91111111, 0.86666667, 0.82222222, 0.84444444, 0.86666667,\n",
       "       0.88636364, 0.90909091, 0.95454545, 0.77272727, 0.86363636])"
      ]
     },
     "execution_count": 69,
     "metadata": {},
     "output_type": "execute_result"
    }
   ],
   "source": [
    "score1=cross_val_score(DecisionTreeClassifier(criterion='entropy',max_depth=10),x_train,y_train,cv=15)\n",
    "score1"
   ]
  },
  {
   "cell_type": "code",
   "execution_count": 70,
   "metadata": {},
   "outputs": [
    {
     "data": {
      "text/plain": [
       "0.8642760942760943"
      ]
     },
     "execution_count": 70,
     "metadata": {},
     "output_type": "execute_result"
    }
   ],
   "source": [
    "import numpy as np\n",
    "np.average(score1)"
   ]
  },
  {
   "cell_type": "code",
   "execution_count": 71,
   "metadata": {},
   "outputs": [
    {
     "name": "stdout",
     "output_type": "stream",
     "text": [
      "              precision    recall  f1-score   support\n",
      "\n",
      "           0       0.81      0.78      0.79       104\n",
      "           1       0.88      0.90      0.89       184\n",
      "\n",
      "    accuracy                           0.85       288\n",
      "   macro avg       0.84      0.84      0.84       288\n",
      "weighted avg       0.85      0.85      0.85       288\n",
      "\n"
     ]
    }
   ],
   "source": [
    "C_R=metrics.classification_report(y_test,prediction1)\n",
    "print(C_R)"
   ]
  },
  {
   "cell_type": "code",
   "execution_count": 72,
   "metadata": {},
   "outputs": [
    {
     "name": "stdout",
     "output_type": "stream",
     "text": [
      "[1 0 1 1 1 1 0 1 1 1 1 1 1 1 0 0 1 0 0 1 1 1 1 1 1 0 1 1 1 1 1 1 1 1 1 1 1\n",
      " 1 1 0 1 0 1 1 1 0 1 0 1 1 1 1 1 1 1 0 0 0 1 0 0 1 1 0 0 0 1 1 1 1 1 0 0 0\n",
      " 1 0 0 1 1 1 0 0 0 1 1 0 1 0 1 1 0 0 0 1 1 1 0 1 0 1 0 1 0 1 0 1 1 1 1 0 1\n",
      " 0 0 1 1 1 1 1 1 0 0 1 1 0 1 1 0 1 1 0 0 1 1 1 1 1 1 1 1 0 1 1 1 1 1 0 0 1\n",
      " 1 1 1 1 0 1 1 1 1 1 0 1 1 1 1 1 0 1 0 0 1 1 1 0 1 1 0 1 1 1 1 1 1 0 1 1 0\n",
      " 1 0 1 1 1 1 0 1 0 1 0 0 0 1 1 1 1 1 1 1 1 1 1 0 0 1 1 0 0 1 1 1 1 0 0 1 0\n",
      " 1 1 1 1 1 1 1 0 1 1 0 0 0 1 1 1 0 1 1 1 0 1 1 0 0 1 1 1 1 0 1 1 1 1 1 1 1\n",
      " 1 0 0 1 1 1 1 1 1 1 1 1 1 1 1 0 1 0 1 0 0 0 0 0 0 1 0 1 1]\n"
     ]
    }
   ],
   "source": [
    "from sklearn.ensemble import RandomForestClassifier\n",
    "rfc=RandomForestClassifier(criterion='entropy',n_estimators=50,max_depth=10)\n",
    "rfc.fit(x_train,y_train)\n",
    "prediction3=rfc.predict(x_test)\n",
    "print(prediction3)"
   ]
  },
  {
   "cell_type": "code",
   "execution_count": 74,
   "metadata": {},
   "outputs": [
    {
     "name": "stdout",
     "output_type": "stream",
     "text": [
      "13\n",
      "0.9548611111111112\n",
      "[0.92537313 0.96268657 0.89552239 0.90298507 0.91044776]\n"
     ]
    }
   ],
   "source": [
    "count_missclassified2=(y_test!=prediction3).sum()\n",
    "print(count_missclassified2)\n",
    "accuracy2=metrics.accuracy_score(y_test,prediction3)\n",
    "print(accuracy2)\n",
    "cross_val_accur2=cross_val_score(RandomForestClassifier(criterion='entropy',n_estimators=50,max_depth=10),x_train,y_train)\n",
    "print(cross_val_accur2)"
   ]
  },
  {
   "cell_type": "code",
   "execution_count": 75,
   "metadata": {},
   "outputs": [
    {
     "data": {
      "text/plain": [
       "array([0.93333333, 0.93333333, 0.91111111, 0.91111111, 0.97777778,\n",
       "       0.95555556, 0.88888889, 0.93333333, 0.91111111, 0.91111111,\n",
       "       0.90909091, 0.97727273, 0.93181818, 0.95454545, 0.90909091])"
      ]
     },
     "execution_count": 75,
     "metadata": {},
     "output_type": "execute_result"
    }
   ],
   "source": [
    "score2=cross_val_score(RandomForestClassifier(criterion='entropy',n_estimators=50,max_depth=10),x_train,y_train,cv=15)\n",
    "score2"
   ]
  },
  {
   "cell_type": "code",
   "execution_count": 76,
   "metadata": {},
   "outputs": [
    {
     "data": {
      "text/plain": [
       "0.9298989898989898"
      ]
     },
     "execution_count": 76,
     "metadata": {},
     "output_type": "execute_result"
    }
   ],
   "source": [
    "np.average(score2)"
   ]
  },
  {
   "cell_type": "code",
   "execution_count": 77,
   "metadata": {},
   "outputs": [
    {
     "name": "stdout",
     "output_type": "stream",
     "text": [
      "              precision    recall  f1-score   support\n",
      "\n",
      "           0       1.00      0.88      0.93       104\n",
      "           1       0.93      1.00      0.97       184\n",
      "\n",
      "    accuracy                           0.95       288\n",
      "   macro avg       0.97      0.94      0.95       288\n",
      "weighted avg       0.96      0.95      0.95       288\n",
      "\n"
     ]
    }
   ],
   "source": [
    "C_R2=metrics.classification_report(y_test,prediction3)\n",
    "print(C_R2)"
   ]
  },
  {
   "cell_type": "code",
   "execution_count": 80,
   "metadata": {},
   "outputs": [
    {
     "name": "stdout",
     "output_type": "stream",
     "text": [
      "1\n",
      "1\n",
      "1\n",
      "1\n",
      "0\n",
      "0\n",
      "1\n",
      "0\n",
      "1\n",
      "pos\n"
     ]
    }
   ],
   "source": [
    "a=int(input())\n",
    "b=int(input())\n",
    "c=int(input())\n",
    "d=int(input())\n",
    "e=int(input())\n",
    "f=int(input())\n",
    "g=int(input())\n",
    "h=int(input())\n",
    "i=int(input())\n",
    "classes={0:'pos',1:'neg'}\n",
    "n=[[a,b,c,d,e,f,g,h,i]]\n",
    "pred=rfc.predict(n)\n",
    "print(classes[pred[0]])"
   ]
  },
  {
   "cell_type": "code",
   "execution_count": 179,
   "metadata": {},
   "outputs": [],
   "source": [
    "from keras.layers import Flatten,Dense,Dropout,Activation\n",
    "from keras.models import Sequential\n",
    "from keras.layers.advanced_activations import LeakyReLU\n",
    "from keras.callbacks import EarlyStopping"
   ]
  },
  {
   "cell_type": "code",
   "execution_count": 264,
   "metadata": {},
   "outputs": [
    {
     "name": "stdout",
     "output_type": "stream",
     "text": [
      "Model: \"sequential_122\"\n",
      "_________________________________________________________________\n",
      "Layer (type)                 Output Shape              Param #   \n",
      "=================================================================\n",
      "dense_470 (Dense)            (None, 128)               1280      \n",
      "_________________________________________________________________\n",
      "dense_471 (Dense)            (None, 128)               16512     \n",
      "_________________________________________________________________\n",
      "dropout_128 (Dropout)        (None, 128)               0         \n",
      "_________________________________________________________________\n",
      "dense_472 (Dense)            (None, 64)                8256      \n",
      "_________________________________________________________________\n",
      "dense_473 (Dense)            (None, 10)                650       \n",
      "_________________________________________________________________\n",
      "leaky_re_lu_115 (LeakyReLU)  (None, 10)                0         \n",
      "_________________________________________________________________\n",
      "activation_116 (Activation)  (None, 10)                0         \n",
      "=================================================================\n",
      "Total params: 26,698\n",
      "Trainable params: 26,698\n",
      "Non-trainable params: 0\n",
      "_________________________________________________________________\n"
     ]
    }
   ],
   "source": [
    "import tensorflow as tf\n",
    "model=Sequential()\n",
    "model.add(Dense(128,input_dim=9,activation='relu'))\n",
    "model.add(Dense(128,activation='relu'))\n",
    "model.add(Dropout(0.25))\n",
    "model.add(Dense(64,activation='relu'))\n",
    "model.add(Dense(10))\n",
    "model.add(LeakyReLU(0.1))\n",
    "model.add(Activation('softmax'))\n",
    "model.summary()"
   ]
  },
  {
   "cell_type": "code",
   "execution_count": 295,
   "metadata": {},
   "outputs": [
    {
     "name": "stdout",
     "output_type": "stream",
     "text": [
      "Train on 670 samples, validate on 288 samples\n",
      "Epoch 1/8\n",
      "670/670 [==============================] - 0s 474us/step - loss: 0.2236 - accuracy: 0.9134 - val_loss: 0.3284 - val_accuracy: 0.8889\n",
      "Epoch 2/8\n",
      "670/670 [==============================] - 0s 90us/step - loss: 0.2190 - accuracy: 0.9134 - val_loss: 0.3317 - val_accuracy: 0.8646\n",
      "Epoch 3/8\n",
      "670/670 [==============================] - 0s 75us/step - loss: 0.2179 - accuracy: 0.9045 - val_loss: 0.3361 - val_accuracy: 0.8785\n",
      "Epoch 4/8\n",
      "670/670 [==============================] - 0s 74us/step - loss: 0.2001 - accuracy: 0.9194 - val_loss: 0.3325 - val_accuracy: 0.8958\n",
      "Epoch 5/8\n",
      "670/670 [==============================] - 0s 77us/step - loss: 0.1910 - accuracy: 0.9299 - val_loss: 0.3313 - val_accuracy: 0.8715\n",
      "Epoch 6/8\n",
      "670/670 [==============================] - 0s 77us/step - loss: 0.1991 - accuracy: 0.9209 - val_loss: 0.3263 - val_accuracy: 0.8785\n",
      "Epoch 7/8\n",
      "670/670 [==============================] - 0s 83us/step - loss: 0.1687 - accuracy: 0.9433 - val_loss: 0.2965 - val_accuracy: 0.8819\n",
      "Epoch 8/8\n",
      "670/670 [==============================] - 0s 75us/step - loss: 0.1727 - accuracy: 0.9313 - val_loss: 0.3040 - val_accuracy: 0.8785\n"
     ]
    }
   ],
   "source": [
    "d_train,d_test,l_train,l_test=train_test_split(x,y,test_size=0.3,random_state=1)\n",
    "model.compile(optimizer='adam',loss='sparse_categorical_crossentropy',metrics=['accuracy'])\n",
    "rs=EarlyStopping(monitor='val_loss',mode='min',verbose=1,patience=3)\n",
    "history=model.fit(d_train,l_train,epochs=8,batch_size=64,validation_split=0.25,validation_data=(d_test,l_test))"
   ]
  },
  {
   "cell_type": "code",
   "execution_count": 296,
   "metadata": {},
   "outputs": [
    {
     "name": "stdout",
     "output_type": "stream",
     "text": [
      "670/670 [==============================] - 0s 48us/step\n"
     ]
    },
    {
     "data": {
      "text/plain": [
       "[0.1389310608604061, 0.9597014784812927]"
      ]
     },
     "execution_count": 296,
     "metadata": {},
     "output_type": "execute_result"
    }
   ],
   "source": [
    "model.evaluate(d_train,l_train)"
   ]
  },
  {
   "cell_type": "code",
   "execution_count": 297,
   "metadata": {},
   "outputs": [
    {
     "name": "stdout",
     "output_type": "stream",
     "text": [
      "288/288 [==============================] - 0s 59us/step\n"
     ]
    },
    {
     "data": {
      "text/plain": [
       "[0.30395062102211845, 0.8784722089767456]"
      ]
     },
     "execution_count": 297,
     "metadata": {},
     "output_type": "execute_result"
    }
   ],
   "source": [
    "model.evaluate(d_test,l_test)"
   ]
  },
  {
   "cell_type": "code",
   "execution_count": 298,
   "metadata": {},
   "outputs": [
    {
     "data": {
      "text/plain": [
       "[<matplotlib.lines.Line2D at 0x17422959808>]"
      ]
     },
     "execution_count": 298,
     "metadata": {},
     "output_type": "execute_result"
    },
    {
     "data": {
      "image/png": "[encoded data removed]",
      "text/plain": [
       "<Figure size 432x288 with 1 Axes>"
      ]
     },
     "metadata": {
      "needs_background": "light"
     },
     "output_type": "display_data"
    }
   ],
   "source": [
    "plt.plot(history.history['accuracy'])\n",
    "plt.plot(history.history['val_accuracy'])"
   ]
  },
  {
   "cell_type": "code",
   "execution_count": 299,
   "metadata": {},
   "outputs": [
    {
     "data": {
      "text/plain": [
       "[<matplotlib.lines.Line2D at 0x174228d5bc8>]"
      ]
     },
     "execution_count": 299,
     "metadata": {},
     "output_type": "execute_result"
    },
    {
     "data": {
      "image/png": "[encoded data removed]",
      "text/plain": [
       "<Figure size 432x288 with 1 Axes>"
      ]
     },
     "metadata": {
      "needs_background": "light"
     },
     "output_type": "display_data"
    }
   ],
   "source": [
    "plt.plot(history.history['loss'])\n",
    "plt.plot(history.history['val_loss'])"
   ]
  },
  {
   "cell_type": "code",
   "execution_count": 300,
   "metadata": {},
   "outputs": [
    {
     "name": "stdout",
     "output_type": "stream",
     "text": [
      "[[4.09226686e-01 5.90339124e-01 5.55707848e-05 ... 6.32626616e-05\n",
      "  6.23998785e-05 5.08724988e-05]\n",
      " [2.31761649e-01 7.67295599e-01 1.19541364e-04 ... 1.39898169e-04\n",
      "  1.28791027e-04 1.10897825e-04]\n",
      " [5.27430952e-01 4.71937567e-01 8.07743418e-05 ... 9.21185710e-05\n",
      "  8.70410367e-05 7.43608107e-05]\n",
      " ...\n",
      " [9.96904671e-01 3.04738595e-03 6.15974386e-06 ... 6.57347346e-06\n",
      "  6.79087543e-06 5.89930596e-06]\n",
      " [9.07723606e-01 9.20717716e-02 2.60712786e-05 ... 2.88362644e-05\n",
      "  2.90064982e-05 2.45440751e-05]\n",
      " [1.20569088e-01 8.79243851e-01 2.27655491e-05 ... 2.80876884e-05\n",
      "  2.57996981e-05 2.16405133e-05]]\n"
     ]
    }
   ],
   "source": [
    "predict=model.predict(d_test)\n",
    "print(predict)"
   ]
  },
  {
   "cell_type": "code",
   "execution_count": 301,
   "metadata": {},
   "outputs": [
    {
     "name": "stdout",
     "output_type": "stream",
     "text": [
      "precision score is :  0.8678376268540203\n",
      "recall score is :  0.8693561872909699\n",
      "Classification report                precision    recall  f1-score   support\n",
      "\n",
      "           0       0.83      0.84      0.83       104\n",
      "           1       0.91      0.90      0.90       184\n",
      "\n",
      "    accuracy                           0.88       288\n",
      "   macro avg       0.87      0.87      0.87       288\n",
      "weighted avg       0.88      0.88      0.88       288\n",
      "\n"
     ]
    }
   ],
   "source": [
    "predicted_result=model.predict(d_test)\n",
    "class_preds=np.argmax(predicted_result,axis=-1)\n",
    "from sklearn import metrics\n",
    "p_score=metrics.precision_score(l_test,class_preds,average='macro')\n",
    "print(\"precision score is : \",p_score)\n",
    "r_score=metrics.recall_score(l_test,class_preds,average='macro')\n",
    "print(\"recall score is : \",r_score)\n",
    "c_r=metrics.classification_report(l_test,class_preds)\n",
    "print(\"Classification report \",c_r)"
   ]
  }
 ],
 "metadata": {
  "kernelspec": {
   "display_name": "Python 3",
   "language": "python",
   "name": "python3"
  },
  "language_info": {
   "codemirror_mode": {
    "name": "ipython",
    "version": 3
   },
   "file_extension": ".py",
   "mimetype": "text/x-python",
   "name": "python",
   "nbconvert_exporter": "python",
   "pygments_lexer": "ipython3",
   "version": "3.7.9"
  }
 },
 "nbformat": 4,
 "nbformat_minor": 4
}
